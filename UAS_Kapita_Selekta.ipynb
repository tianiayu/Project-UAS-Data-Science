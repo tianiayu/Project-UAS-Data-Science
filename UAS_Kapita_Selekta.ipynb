{
  "nbformat": 4,
  "nbformat_minor": 0,
  "metadata": {
    "colab": {
      "provenance": [],
      "include_colab_link": true
    },
    "kernelspec": {
      "name": "python3",
      "display_name": "Python 3"
    },
    "language_info": {
      "name": "python"
    }
  },
  "cells": [
    {
      "cell_type": "markdown",
      "metadata": {
        "id": "view-in-github",
        "colab_type": "text"
      },
      "source": [
        "<a href=\"https://colab.research.google.com/github/tianiayu/UPB-Projects/blob/main/UAS_Kapita_Selekta.ipynb\" target=\"_parent\"><img src=\"https://colab.research.google.com/assets/colab-badge.svg\" alt=\"Open In Colab\"/></a>"
      ]
    },
    {
      "cell_type": "code",
      "execution_count": null,
      "metadata": {
        "colab": {
          "base_uri": "https://localhost:8080/"
        },
        "id": "fNxuPzdNVlM_",
        "outputId": "4b26fd02-ce01-4d58-8b6a-1bbc0705fd77"
      },
      "outputs": [
        {
          "output_type": "stream",
          "name": "stdout",
          "text": [
            "Requirement already satisfied: textblob in /usr/local/lib/python3.10/dist-packages (0.17.1)\n",
            "Requirement already satisfied: nltk>=3.1 in /usr/local/lib/python3.10/dist-packages (from textblob) (3.8.1)\n",
            "Requirement already satisfied: click in /usr/local/lib/python3.10/dist-packages (from nltk>=3.1->textblob) (8.1.7)\n",
            "Requirement already satisfied: joblib in /usr/local/lib/python3.10/dist-packages (from nltk>=3.1->textblob) (1.3.2)\n",
            "Requirement already satisfied: regex>=2021.8.3 in /usr/local/lib/python3.10/dist-packages (from nltk>=3.1->textblob) (2023.6.3)\n",
            "Requirement already satisfied: tqdm in /usr/local/lib/python3.10/dist-packages (from nltk>=3.1->textblob) (4.66.1)\n"
          ]
        }
      ],
      "source": [
        "!pip install textblob"
      ]
    },
    {
      "cell_type": "code",
      "source": [
        "import pandas as pd\n",
        "from textblob import TextBlob\n",
        "\n",
        "# Membaca dataset CSV\n",
        "data = pd.read_csv('craw_fifa.csv')\n",
        "\n",
        "# Menampilkan informasi data\n",
        "print(data.head())\n",
        "\n",
        "# Mengambil kolom teks yang akan dianalisis sentimennya\n",
        "tweets = data['full_text']\n",
        "\n",
        "# Membuat fungsi untuk analisis sentimen menggunakan TextBlob\n",
        "def analyze_sentiment(text):\n",
        "    analysis = TextBlob(text)\n",
        "    # Sentimen dalam bentuk nilai polaritas (-1 hingga 1) di mana nilai positif menunjukkan sentimen positif\n",
        "    return analysis.sentiment.polarity\n",
        "\n",
        "# Menerapkan fungsi analisis sentimen pada setiap tweet dan menambahkan hasilnya ke dalam kolom baru\n",
        "data['sentiment'] = tweets.apply(analyze_sentiment)\n",
        "\n",
        "# Menampilkan hasil analisis sentimen\n",
        "print(data[['full_text', 'sentiment']])\n"
      ],
      "metadata": {
        "colab": {
          "base_uri": "https://localhost:8080/"
        },
        "id": "2booC-IqVqQs",
        "outputId": "a420b7ad-b8d7-4ed8-d01d-fb15ff5096e3"
      },
      "execution_count": null,
      "outputs": [
        {
          "output_type": "stream",
          "name": "stdout",
          "text": [
            "                       created_at               id_str  \\\n",
            "0  Sat Aug 19 11:40:11 +0000 2023  1692864031173070961   \n",
            "1  Sat Aug 19 10:20:53 +0000 2023  1692844072397046166   \n",
            "2  Sat Aug 19 09:33:32 +0000 2023  1692832156815393157   \n",
            "3  Sat Aug 19 09:05:58 +0000 2023  1692825220854530377   \n",
            "4  Sat Aug 19 05:06:53 +0000 2023  1692765054817734798   \n",
            "\n",
            "                                           full_text  quote_count  \\\n",
            "0  @mrdzputra @erickthohir @IndraSjafrie Piala du...            0   \n",
            "1  @Box2BoxBola @PSSI Garnacho (MU), Nico Paz (Re...            0   \n",
            "2  @tvOneNews JIS mau di hapus dari list pengajua...            0   \n",
            "3  @UpdateBolabola Negara lain punya ambisi, tapi...            0   \n",
            "4  @FaktaSepakbola Ini lebih parah lagi. 28 pemai...            0   \n",
            "\n",
            "   reply_count  retweet_count  favorite_count lang  user_id_str  \\\n",
            "0            1              0               0   in   1366316557   \n",
            "1            0              0               0   in   2324582269   \n",
            "2            0              0               1   in   2896116722   \n",
            "3            1              0               1   in   1184842788   \n",
            "4            6              3              15   in     66542749   \n",
            "\n",
            "   conversation_id_str        username  \\\n",
            "0  1692781890263232906     ariarrifaii   \n",
            "1  1692823877578260831  Andhikaputra66   \n",
            "2  1692466724325752902       soetjapoe   \n",
            "3  1692823381773779096       RedSaesar   \n",
            "4  1692761510068756857       OghieGigs   \n",
            "\n",
            "                                           tweet_url  \n",
            "0  https://twitter.com/ariarrifaii/status/1692864...  \n",
            "1  https://twitter.com/Andhikaputra66/status/1692...  \n",
            "2  https://twitter.com/soetjapoe/status/169283215...  \n",
            "3  https://twitter.com/RedSaesar/status/169282522...  \n",
            "4  https://twitter.com/OghieGigs/status/169276505...  \n",
            "                                              full_text  sentiment\n",
            "0     @mrdzputra @erickthohir @IndraSjafrie Piala du...   0.000000\n",
            "1     @Box2BoxBola @PSSI Garnacho (MU), Nico Paz (Re...   0.200000\n",
            "2     @tvOneNews JIS mau di hapus dari list pengajua...  -0.100000\n",
            "3     @UpdateBolabola Negara lain punya ambisi, tapi...   0.000000\n",
            "4     @FaktaSepakbola Ini lebih parah lagi. 28 pemai...   0.000000\n",
            "...                                                 ...        ...\n",
            "1092  #FIFA U20 World Cup (Semi-Final)  ⏱️:62 Italia...   0.000000\n",
            "1093  Need vidio yang bisa liat fifa wc u20 #zonabu ...   0.000000\n",
            "1094  #FIFA U20 World Cup (Semi-Final)  HT: Italia v...   0.000000\n",
            "1095  Jadwal Acara TV MOJI TV Jumat, 9 Juni 2023 Ada...   0.136364\n",
            "1096  Apps FIFA+ dah boleh install kat TV woohooo  H...   0.000000\n",
            "\n",
            "[1097 rows x 2 columns]\n"
          ]
        }
      ]
    },
    {
      "cell_type": "code",
      "source": [
        "import pandas as pd\n",
        "from textblob import TextBlob\n",
        "import matplotlib.pyplot as plt\n",
        "\n",
        "# Membaca dataset CSV\n",
        "data = pd.read_csv('craw_fifa.csv')\n",
        "\n",
        "# Menampilkan informasi data\n",
        "print(data.head())\n",
        "\n",
        "# Mengambil kolom teks yang akan dianalisis sentimennya\n",
        "tweets = data['full_text']\n",
        "\n",
        "# Membuat fungsi untuk analisis sentimen menggunakan TextBlob\n",
        "def analyze_sentiment(text):\n",
        "    analysis = TextBlob(text)\n",
        "    # Sentimen dalam bentuk nilai polaritas (-1 hingga 1) di mana nilai positif menunjukkan sentimen positif\n",
        "    return analysis.sentiment.polarity\n",
        "\n",
        "# Menerapkan fungsi analisis sentimen pada setiap tweet dan menambahkan hasilnya ke dalam kolom baru\n",
        "data['sentiment'] = tweets.apply(analyze_sentiment)\n",
        "\n",
        "# Visualisasi grafik distribusi sentimen\n",
        "plt.figure(figsize=(8, 6))\n",
        "data['sentiment'].hist(bins=20, color='skyblue')\n",
        "plt.title('Distribusi Sentimen Tweet')\n",
        "plt.xlabel('Sentimen')\n",
        "plt.ylabel('Jumlah Tweet')\n",
        "plt.show()\n"
      ],
      "metadata": {
        "colab": {
          "base_uri": "https://localhost:8080/",
          "height": 1000
        },
        "id": "3pxZoBMzW6jj",
        "outputId": "e538f04a-28dd-4e87-c5f8-2d2d5dad6bea"
      },
      "execution_count": null,
      "outputs": [
        {
          "output_type": "stream",
          "name": "stdout",
          "text": [
            "                       created_at               id_str  \\\n",
            "0  Sat Aug 19 11:40:11 +0000 2023  1692864031173070961   \n",
            "1  Sat Aug 19 10:20:53 +0000 2023  1692844072397046166   \n",
            "2  Sat Aug 19 09:33:32 +0000 2023  1692832156815393157   \n",
            "3  Sat Aug 19 09:05:58 +0000 2023  1692825220854530377   \n",
            "4  Sat Aug 19 05:06:53 +0000 2023  1692765054817734798   \n",
            "\n",
            "                                           full_text  quote_count  \\\n",
            "0  @mrdzputra @erickthohir @IndraSjafrie Piala du...            0   \n",
            "1  @Box2BoxBola @PSSI Garnacho (MU), Nico Paz (Re...            0   \n",
            "2  @tvOneNews JIS mau di hapus dari list pengajua...            0   \n",
            "3  @UpdateBolabola Negara lain punya ambisi, tapi...            0   \n",
            "4  @FaktaSepakbola Ini lebih parah lagi. 28 pemai...            0   \n",
            "\n",
            "   reply_count  retweet_count  favorite_count lang  user_id_str  \\\n",
            "0            1              0               0   in   1366316557   \n",
            "1            0              0               0   in   2324582269   \n",
            "2            0              0               1   in   2896116722   \n",
            "3            1              0               1   in   1184842788   \n",
            "4            6              3              15   in     66542749   \n",
            "\n",
            "   conversation_id_str        username  \\\n",
            "0  1692781890263232906     ariarrifaii   \n",
            "1  1692823877578260831  Andhikaputra66   \n",
            "2  1692466724325752902       soetjapoe   \n",
            "3  1692823381773779096       RedSaesar   \n",
            "4  1692761510068756857       OghieGigs   \n",
            "\n",
            "                                           tweet_url  \n",
            "0  https://twitter.com/ariarrifaii/status/1692864...  \n",
            "1  https://twitter.com/Andhikaputra66/status/1692...  \n",
            "2  https://twitter.com/soetjapoe/status/169283215...  \n",
            "3  https://twitter.com/RedSaesar/status/169282522...  \n",
            "4  https://twitter.com/OghieGigs/status/169276505...  \n"
          ]
        },
        {
          "output_type": "display_data",
          "data": {
            "text/plain": [
              "<Figure size 800x600 with 1 Axes>"
            ],
            "image/png": "[encoded data removed]"
          },
          "metadata": {}
        }
      ]
    },
    {
      "cell_type": "code",
      "source": [
        "import pandas as pd\n",
        "from textblob import TextBlob\n",
        "import matplotlib.pyplot as plt\n",
        "\n",
        "# Membaca dataset CSV\n",
        "data = pd.read_csv('craw_fifa.csv')\n",
        "\n",
        "# Mengambil kolom teks yang akan dianalisis sentimennya\n",
        "tweets = data['full_text']\n",
        "\n",
        "# Membuat fungsi untuk analisis sentimen menggunakan TextBlob\n",
        "def analyze_sentiment(text):\n",
        "    analysis = TextBlob(text)\n",
        "    # Sentimen dalam bentuk nilai polaritas (-1 hingga 1) di mana nilai positif menunjukkan sentimen positif\n",
        "    return analysis.sentiment.polarity\n",
        "\n",
        "# Menerapkan fungsi analisis sentimen pada setiap tweet dan menambahkan hasilnya ke dalam kolom baru\n",
        "data['sentiment'] = tweets.apply(analyze_sentiment)\n",
        "\n",
        "# Memisahkan tweet-tweet dengan sentimen positif\n",
        "positive_tweets = data[data['sentiment'] > 0]\n",
        "\n",
        "# Memisahkan tweet-tweet dengan sentimen negatif\n",
        "negative_tweets = data[data['sentiment'] < 0]\n",
        "\n",
        "# Menghitung jumlah tweet dengan sentimen positif dan negatif\n",
        "count_positive = len(positive_tweets)\n",
        "count_negative = len(negative_tweets)\n",
        "count_negative = len(negative_tweets)\n",
        "\n",
        "# Menampilkan dalam bentuk grafik batang\n",
        "labels = ['Positive', 'Negative']\n",
        "values = [count_positive, count_negative]\n",
        "\n",
        "plt.bar(labels, values, color=['green', 'red'])\n",
        "plt.title('Jumlah Tweet dengan Sentimen Positif dan Negatif')\n",
        "plt.xlabel('Sentimen')\n",
        "plt.ylabel('Jumlah Tweet')\n",
        "plt.show()\n"
      ],
      "metadata": {
        "colab": {
          "base_uri": "https://localhost:8080/",
          "height": 472
        },
        "id": "Yi_AFEdEXoKR",
        "outputId": "ff564196-a5b7-47a4-f5e9-8555bac9ded0"
      },
      "execution_count": null,
      "outputs": [
        {
          "output_type": "display_data",
          "data": {
            "text/plain": [
              "<Figure size 640x480 with 1 Axes>"
            ],
            "image/png": "[encoded data removed]"
          },
          "metadata": {}
        }
      ]
    },
    {
      "cell_type": "code",
      "source": [
        "import pandas as pd\n",
        "from textblob import TextBlob\n",
        "\n",
        "# Membaca dataset CSV\n",
        "data = pd.read_csv('craw_fifa.csv')\n",
        "\n",
        "# Mengambil kolom teks yang akan dianalisis sentimennya\n",
        "tweets = data['full_text']\n",
        "\n",
        "# Membuat fungsi untuk analisis sentimen menggunakan TextBlob\n",
        "def analyze_sentiment(text):\n",
        "    analysis = TextBlob(text)\n",
        "    polarity = analysis.sentiment.polarity\n",
        "    # Mengasumsikan threshold 0.1 sebagai batas antara sentimen positif dan negatif\n",
        "    if polarity > 0.1:\n",
        "        return 'positif'\n",
        "    elif polarity < -0.1:\n",
        "        return 'negatif'\n",
        "    else:\n",
        "        return 'netral'\n",
        "\n",
        "# Menambahkan kolom label sentimen ke dalam dataset\n",
        "data['sentiment'] = tweets.apply(analyze_sentiment)\n",
        "\n",
        "# Menyimpan dataset yang telah ditambahkan label sentimen ke dalam file CSV baru\n",
        "data.to_csv('nama_file_dengan_sentimen.csv', index=False)\n"
      ],
      "metadata": {
        "id": "gpVeQ4_NqWBM"
      },
      "execution_count": null,
      "outputs": []
    },
    {
      "cell_type": "code",
      "source": [
        "import pandas as pd\n",
        "from sklearn.model_selection import train_test_split\n",
        "from sklearn.feature_extraction.text import TfidfVectorizer\n",
        "from sklearn.naive_bayes import MultinomialNB\n",
        "from sklearn.metrics import accuracy_score, classification_report\n",
        "\n",
        "# Membaca dataset CSV\n",
        "data = pd.read_csv('nama_file_dengan_sentimen.csv')\n",
        "\n",
        "# Pisahkan data menjadi fitur (X) dan label (y)\n",
        "X = data['full_text']\n",
        "y = data['sentiment']  # Anggap terdapat kolom sentimen_label sebagai label (positif/negatif)\n",
        "\n",
        "# Split data menjadi data latih dan data uji\n",
        "X_train, X_test, y_train, y_test = train_test_split(X, y, test_size=0.2, random_state=42)\n",
        "\n",
        "# Membuat TF-IDF Vectorizer\n",
        "tfidf_vectorizer = TfidfVectorizer(max_features=5000)  # Atur jumlah fitur maksimum\n",
        "X_train_tfidf = tfidf_vectorizer.fit_transform(X_train)\n",
        "X_test_tfidf = tfidf_vectorizer.transform(X_test)\n",
        "\n",
        "# Membuat model Naive Bayes\n",
        "naive_bayes = MultinomialNB()\n",
        "naive_bayes.fit(X_train_tfidf, y_train)\n",
        "\n",
        "# Melakukan prediksi pada data uji\n",
        "y_pred = naive_bayes.predict(X_test_tfidf)\n",
        "\n",
        "# Evaluasi performa model\n",
        "print(\"Accuracy:\", accuracy_score(y_test, y_pred))\n",
        "print(\"\\nClassification Report:\\n\", classification_report(y_test, y_pred))\n"
      ],
      "metadata": {
        "colab": {
          "base_uri": "https://localhost:8080/"
        },
        "id": "BWsXvHhYpZL5",
        "outputId": "bd010924-7f33-423a-ad3a-4c39c8e86a2d"
      },
      "execution_count": null,
      "outputs": [
        {
          "output_type": "stream",
          "name": "stdout",
          "text": [
            "Accuracy: 0.9\n",
            "\n",
            "Classification Report:\n",
            "               precision    recall  f1-score   support\n",
            "\n",
            "     negatif       0.00      0.00      0.00         2\n",
            "      netral       0.90      1.00      0.95       198\n",
            "     positif       0.00      0.00      0.00        20\n",
            "\n",
            "    accuracy                           0.90       220\n",
            "   macro avg       0.30      0.33      0.32       220\n",
            "weighted avg       0.81      0.90      0.85       220\n",
            "\n"
          ]
        },
        {
          "output_type": "stream",
          "name": "stderr",
          "text": [
            "/usr/local/lib/python3.10/dist-packages/sklearn/metrics/_classification.py:1344: UndefinedMetricWarning: Precision and F-score are ill-defined and being set to 0.0 in labels with no predicted samples. Use `zero_division` parameter to control this behavior.\n",
            "  _warn_prf(average, modifier, msg_start, len(result))\n",
            "/usr/local/lib/python3.10/dist-packages/sklearn/metrics/_classification.py:1344: UndefinedMetricWarning: Precision and F-score are ill-defined and being set to 0.0 in labels with no predicted samples. Use `zero_division` parameter to control this behavior.\n",
            "  _warn_prf(average, modifier, msg_start, len(result))\n",
            "/usr/local/lib/python3.10/dist-packages/sklearn/metrics/_classification.py:1344: UndefinedMetricWarning: Precision and F-score are ill-defined and being set to 0.0 in labels with no predicted samples. Use `zero_division` parameter to control this behavior.\n",
            "  _warn_prf(average, modifier, msg_start, len(result))\n"
          ]
        }
      ]
    },
    {
      "cell_type": "code",
      "source": [
        "import pandas as pd\n",
        "from sklearn.feature_extraction.text import TfidfVectorizer\n",
        "from sklearn.model_selection import train_test_split\n",
        "from sklearn.naive_bayes import MultinomialNB\n",
        "from sklearn.svm import SVC\n",
        "from sklearn.metrics import accuracy_score, confusion_matrix\n",
        "import matplotlib.pyplot as plt\n",
        "\n",
        "# Membaca dataset CSV\n",
        "data = pd.read_csv('nama_file_dengan_sentimen.csv')\n",
        "\n",
        "# Mengambil kolom teks yang akan digunakan untuk analisis sentimen\n",
        "tweets = data['full_text']\n",
        "sentiments = data['sentiment']  # Kolom sentimen yang telah dihitung sebelumnya\n",
        "\n",
        "# Membagi data menjadi data latih dan data uji\n",
        "X_train, X_test, y_train, y_test = train_test_split(tweets, sentiments, test_size=0.2, random_state=42)\n",
        "\n",
        "# Membuat TF-IDF Vectorizer\n",
        "vectorizer = TfidfVectorizer(max_features=1000)\n",
        "X_train = vectorizer.fit_transform(X_train)\n",
        "X_test = vectorizer.transform(X_test)\n",
        "\n",
        "# Model Naive Bayes\n",
        "nb_model = MultinomialNB()\n",
        "nb_model.fit(X_train, y_train)\n",
        "nb_predictions = nb_model.predict(X_test)\n",
        "\n",
        "# Model SVM (Support Vector Machine)\n",
        "svm_model = SVC(kernel='linear')\n",
        "svm_model.fit(X_train, y_train)\n",
        "svm_predictions = svm_model.predict(X_test)\n",
        "\n",
        "# Menghitung akurasi dari masing-masing model\n",
        "nb_accuracy = accuracy_score(y_test, nb_predictions)\n",
        "svm_accuracy = accuracy_score(y_test, svm_predictions)\n",
        "\n",
        "# Menampilkan hasil akurasi\n",
        "print(f\"Akurasi Naive Bayes: {nb_accuracy}\")\n",
        "print(f\"Akurasi SVM: {svm_accuracy}\")\n",
        "\n",
        "# Menampilkan hasil dalam bentuk grafik\n",
        "labels = ['Naive Bayes', 'SVM']\n",
        "accuracies = [nb_accuracy, svm_accuracy]\n",
        "\n",
        "plt.bar(labels, accuracies, color=['blue', 'orange'])\n",
        "plt.title('Akurasi Model Analisis Sentimen')\n",
        "plt.xlabel('Metode')\n",
        "plt.ylabel('Akurasi')\n",
        "plt.ylim(0, 1)  # Mengatur rentang sumbu y dari 0 hingga 1\n",
        "plt.show()\n"
      ],
      "metadata": {
        "colab": {
          "base_uri": "https://localhost:8080/",
          "height": 508
        },
        "id": "N8rtE5g_pcDG",
        "outputId": "e22f1474-aa8b-4abc-c239-1c298d42a638"
      },
      "execution_count": null,
      "outputs": [
        {
          "output_type": "stream",
          "name": "stdout",
          "text": [
            "Akurasi Naive Bayes: 0.9\n",
            "Akurasi SVM: 0.9136363636363637\n"
          ]
        },
        {
          "output_type": "display_data",
          "data": {
            "text/plain": [
              "<Figure size 640x480 with 1 Axes>"
            ],
            "image/png": "[encoded data removed]"
          },
          "metadata": {}
        }
      ]
    },
    {
      "cell_type": "code",
      "source": [
        "import pandas as pd\n",
        "import numpy as np\n",
        "from sklearn.feature_extraction.text import TfidfVectorizer\n",
        "from sklearn.model_selection import train_test_split\n",
        "from sklearn.naive_bayes import MultinomialNB\n",
        "from sklearn.svm import SVC\n",
        "import matplotlib.pyplot as plt\n",
        "\n",
        "# Membaca dataset CSV\n",
        "data = pd.read_csv('nama_file_dengan_sentimen.csv')\n",
        "\n",
        "# Mengambil kolom teks yang akan digunakan untuk analisis sentimen\n",
        "tweets = data['full_text']\n",
        "sentiments = data['sentiment']  # Kolom sentimen yang telah dihitung sebelumnya\n",
        "\n",
        "# Membagi data menjadi data latih dan data uji\n",
        "X_train, X_test, y_train, y_test = train_test_split(tweets, sentiments, test_size=0.2, random_state=42)\n",
        "\n",
        "# Membuat TF-IDF Vectorizer\n",
        "vectorizer = TfidfVectorizer(max_features=1000)\n",
        "X_train = vectorizer.fit_transform(X_train)\n",
        "X_test = vectorizer.transform(X_test)\n",
        "\n",
        "# Model Naive Bayes\n",
        "nb_model = MultinomialNB()\n",
        "nb_model.fit(X_train, y_train)\n",
        "nb_predictions = nb_model.predict(X_test)\n",
        "\n",
        "# Model SVM (Support Vector Machine)\n",
        "svm_model = SVC(kernel='linear')\n",
        "svm_model.fit(X_train, y_train)\n",
        "svm_predictions = svm_model.predict(X_test)\n",
        "\n",
        "# Menghitung jumlah sentimen positif dan negatif berdasarkan prediksi model\n",
        "nb_positive_count = sum(nb_predictions == 'positive')  # Replace 'positive' with the actual string representation\n",
        "nb_negative_count = sum(nb_predictions == 'negative')  # Replace 'negative' with the actual string representation\n",
        "\n",
        "# Mapping sentiment labels to numeric values\n",
        "sentiment_mapping = {'positive': 1, 'negative': 0, 'netral': 2}\n",
        "\n",
        "# Applying the mapping to convert string labels to numeric values\n",
        "nb_predictions_numeric = nb_predictions.map(sentiment_mapping)\n",
        "\n",
        "# Menghitung jumlah sentimen positif dan negatif berdasarkan prediksi model\n",
        "nb_positive_count = sum(nb_predictions_numeric == 1)  # Assuming 1 represents positive sentiment\n",
        "nb_negative_count = sum(nb_predictions_numeric == 0)  # Assuming 0 represents negative sentiment\n",
        "\n",
        "\n",
        "# Menampilkan dalam bentuk grafik\n",
        "labels = ['Naive Bayes Positive', 'Naive Bayes Negative', 'SVM Positive', 'SVM Negative']\n",
        "values = [nb_positive_count, nb_negative_count, svm_positive_count, svm_negative_count]\n",
        "\n",
        "plt.bar(labels, values, color=['blue', 'orange', 'green', 'red'])\n",
        "plt.title('Jumlah Tweet Sentimen Positif dan Negatif Berdasarkan Metode')\n",
        "plt.xlabel('Metode dan Sentimen')\n",
        "plt.ylabel('Jumlah Tweet')\n",
        "plt.xticks(rotation=45)  # Memutar label sumbu x untuk keterbacaan yang lebih baik\n",
        "plt.show()\n"
      ],
      "metadata": {
        "colab": {
          "base_uri": "https://localhost:8080/",
          "height": 253
        },
        "id": "7_KYPjG6vDcF",
        "outputId": "bf0c099d-8507-4e92-8346-cb0fb200e888"
      },
      "execution_count": null,
      "outputs": [
        {
          "output_type": "error",
          "ename": "AttributeError",
          "evalue": "ignored",
          "traceback": [
            "\u001b[0;31m---------------------------------------------------------------------------\u001b[0m",
            "\u001b[0;31mAttributeError\u001b[0m                            Traceback (most recent call last)",
            "\u001b[0;32m<ipython-input-14-1f64427f2dc0>\u001b[0m in \u001b[0;36m<cell line: 42>\u001b[0;34m()\u001b[0m\n\u001b[1;32m     40\u001b[0m \u001b[0;34m\u001b[0m\u001b[0m\n\u001b[1;32m     41\u001b[0m \u001b[0;31m# Applying the mapping to convert string labels to numeric values\u001b[0m\u001b[0;34m\u001b[0m\u001b[0;34m\u001b[0m\u001b[0m\n\u001b[0;32m---> 42\u001b[0;31m \u001b[0mnb_predictions_numeric\u001b[0m \u001b[0;34m=\u001b[0m \u001b[0mnb_predictions\u001b[0m\u001b[0;34m.\u001b[0m\u001b[0mmap\u001b[0m\u001b[0;34m(\u001b[0m\u001b[0msentiment_mapping\u001b[0m\u001b[0;34m)\u001b[0m\u001b[0;34m\u001b[0m\u001b[0;34m\u001b[0m\u001b[0m\n\u001b[0m\u001b[1;32m     43\u001b[0m \u001b[0;34m\u001b[0m\u001b[0m\n\u001b[1;32m     44\u001b[0m \u001b[0;31m# Menghitung jumlah sentimen positif dan negatif berdasarkan prediksi model\u001b[0m\u001b[0;34m\u001b[0m\u001b[0;34m\u001b[0m\u001b[0m\n",
            "\u001b[0;31mAttributeError\u001b[0m: 'numpy.ndarray' object has no attribute 'map'"
          ]
        }
      ]
    },
    {
      "cell_type": "code",
      "source": [],
      "metadata": {
        "id": "1YgI3bJZvDUP"
      },
      "execution_count": null,
      "outputs": []
    }
  ]
}